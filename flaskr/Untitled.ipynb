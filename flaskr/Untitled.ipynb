{
 "cells": [
  {
   "cell_type": "code",
   "execution_count": 1,
   "metadata": {},
   "outputs": [
    {
     "ename": "SyntaxError",
     "evalue": "from __future__ imports must occur at the beginning of the file (cell_name, line 7)",
     "output_type": "error",
     "traceback": [
      "\u001b[1;36m  File \u001b[1;32m\"cell_name\"\u001b[1;36m, line \u001b[1;32m7\u001b[0m\n\u001b[1;31mSyntaxError\u001b[0m\u001b[1;31m:\u001b[0m from __future__ imports must occur at the beginning of the file\n"
     ]
    }
   ],
   "source": [
    "import sqlite3\n",
    "from flask import Flask, request, session, g, redirect, url_for, \\\n",
    "    abort, render_template, flash\n",
    "from __future__ import with_statement\n",
    "from contextlib import closing\n",
    "from flaskr import init_db\n",
    "init_db()\n",
    "\n",
    "DATABASE = '/tmp/flaskr.db'\n",
    "DEBUG = True\n",
    "SECRET_KEY = 'development key'\n",
    "USERNAME = 'admin'\n",
    "PASSWORD = 'default'\n",
    "\n",
    "app=Flask(__name__)\n",
    "app.config.from_envvar('FLASKR_SETTINGS', silent=True)\n",
    "\n",
    "def connect_db():\n",
    "    return sqlite3.connect(app.config['DATABASE'])\n",
    "\n",
    "if __name__ == '__main__':\n",
    "    app.run()\n",
    "\n",
    "\n"
   ]
  },
  {
   "cell_type": "code",
   "execution_count": null,
   "metadata": {},
   "outputs": [],
   "source": []
  }
 ],
 "metadata": {
  "kernelspec": {
   "display_name": "Python 3",
   "language": "python",
   "name": "python3"
  },
  "language_info": {
   "codemirror_mode": {
    "name": "ipython",
    "version": 3
   },
   "file_extension": ".py",
   "mimetype": "text/x-python",
   "name": "python",
   "nbconvert_exporter": "python",
   "pygments_lexer": "ipython3",
   "version": "3.7.1"
  }
 },
 "nbformat": 4,
 "nbformat_minor": 2
}
